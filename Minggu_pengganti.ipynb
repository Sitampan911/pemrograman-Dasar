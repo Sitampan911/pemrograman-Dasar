{
  "nbformat": 4,
  "nbformat_minor": 0,
  "metadata": {
    "colab": {
      "provenance": [],
      "authorship_tag": "ABX9TyNwNShqBib/DIQH5TKZfC6g",
      "include_colab_link": true
    },
    "kernelspec": {
      "name": "python3",
      "display_name": "Python 3"
    },
    "language_info": {
      "name": "python"
    }
  },
  "cells": [
    {
      "cell_type": "markdown",
      "metadata": {
        "id": "view-in-github",
        "colab_type": "text"
      },
      "source": [
        "<a href=\"https://colab.research.google.com/github/Sitampan911/pemrograman-Dasar/blob/main/Minggu_pengganti.ipynb\" target=\"_parent\"><img src=\"https://colab.research.google.com/assets/colab-badge.svg\" alt=\"Open In Colab\"/></a>"
      ]
    },
    {
      "cell_type": "code",
      "execution_count": 2,
      "metadata": {
        "id": "DFOR0tuWwfF2",
        "colab": {
          "base_uri": "https://localhost:8080/"
        },
        "outputId": "694f5dd1-7a2f-4473-d6b9-16d2b668cbdc"
      },
      "outputs": [
        {
          "output_type": "stream",
          "name": "stdout",
          "text": [
            "Sistem siap. Selamat datang kembali di sesi praktikum.\n",
            "\n",
            "=== Biodata Praktikan ===\n",
            "Nama     : Daniel Christian S\n",
            "NIM      : 4232401040\n",
            "Kelas    : RPE 3B PAGI\n",
            "Prodi    : Teknik Elektro\n",
            "Hobi     : Mancing\n",
            "==========================\n"
          ]
        }
      ],
      "source": [
        "#1 modifikasi\n",
        "def sapa_praktikan():\n",
        "    \"\"\"Mencetak pesan sambutan dasar.\"\"\"\n",
        "    print(\"Sistem siap. Selamat datang kembali di sesi praktikum.\")\n",
        "\n",
        "sapa_praktikan()\n",
        "\n",
        "def Biodata():\n",
        "    \"\"\"Menampilkan biodata lengkap praktikan.\"\"\"\n",
        "    print(\"\\n=== Biodata Praktikan ===\")\n",
        "    print(\"Nama     : Daniel Christian S\")\n",
        "    print(\"NIM      : 4232401040\")\n",
        "    print(\"Kelas    : RPE 3B PAGI\")\n",
        "    print(\"Prodi    : Teknik Elektro\")\n",
        "    print(\"Hobi     : Mancing\")\n",
        "    print(\"==========================\")\n",
        "\n",
        "# Pemanggilan fungsi biodata\n",
        "Biodata()\n"
      ]
    },
    {
      "cell_type": "code",
      "source": [
        "# SOAL 2: Menghitung Volume Kubus\n",
        "def hitung_volume_kubus(sisi):\n",
        "    \"Menghitung volume kubus dari panjang sisinya.\"\n",
        "    return sisi ** 3\n",
        "\n",
        "# Pemanggilan\n",
        "panjang_sisi = 5\n",
        "print(f\"Volume kubus dengan sisi {panjang_sisi} adalah: {hitung_volume_kubus(panjang_sisi)}\")\n",
        "\n",
        "\n",
        "def hitung_volume_balok(panjang, lebar, tinggi):\n",
        "    \"Menghitung volume balok dari panjang, lebar, dan tinggi.\"\n",
        "    return panjang * lebar * tinggi\n",
        "\n",
        "p = 3\n",
        "l = 6\n",
        "t = 9\n",
        "print(f\"Volume balok dengan ukuran {p} x {l} x {t} adalah: {hitung_volume_balok(p, l, t)}\")"
      ],
      "metadata": {
        "colab": {
          "base_uri": "https://localhost:8080/"
        },
        "id": "jVg9fmMuyXdb",
        "outputId": "cc616a17-bc54-4107-a083-993b5a904c84"
      },
      "execution_count": 4,
      "outputs": [
        {
          "output_type": "stream",
          "name": "stdout",
          "text": [
            "Volume kubus dengan sisi 5 adalah: 125\n",
            "Volume balok dengan ukuran 3 x 6 x 9 adalah: 162\n"
          ]
        }
      ]
    },
    {
      "cell_type": "code",
      "source": [
        "# SOAL 3: Menghitung Rata-rata dari List Nilai dengan Pengecekan\n",
        "def hitung_rata_rata(data_nilai):\n",
        "    total = 0\n",
        "    jumlah_valid = 0\n",
        "\n",
        "    # Perulangan untuk menjumlahkan nilai\n",
        "    for nilai in data_nilai:\n",
        "        # Pengecekan nilai valid (0 - 100)\n",
        "        if 0 <= nilai <= 100:\n",
        "            total += nilai\n",
        "            jumlah_valid += 1\n",
        "        else:\n",
        "            print(f\" Nilai {nilai} tidak valid (tidak terdata).\")\n",
        "\n",
        "     # Pembagian untuk rata-rata\n",
        "\n",
        "    if jumlah_valid > 0:\n",
        "     return total / jumlah_valid\n",
        "    return\n",
        "\n",
        "\n",
        "nilai_praktikan = [88, 104, -2, 78, 90]\n",
        "print(f\"Nilai rata-rata kelas adalah: {hitung_rata_rata(nilai_praktikan):.2f}\")"
      ],
      "metadata": {
        "colab": {
          "base_uri": "https://localhost:8080/"
        },
        "id": "tFjKLhOKzM7l",
        "outputId": "643d7ccb-99a2-42c3-91ba-8f2fb55f502e"
      },
      "execution_count": 18,
      "outputs": [
        {
          "output_type": "stream",
          "name": "stdout",
          "text": [
            " Nilai 104 tidak valid (tidak terdata).\n",
            " Nilai -2 tidak valid (tidak terdata).\n",
            "Nilai rata-rata kelas adalah: 85.33\n"
          ]
        }
      ]
    },
    {
      "cell_type": "code",
      "source": [
        "#4\n",
        "def tentukan_predikat(skor):\n",
        "    \"\"\"Menentukan predikat (A, B, C, D, E) berdasarkan skor.\"\"\"\n",
        "    if skor >= 85:\n",
        "        return \"A\"\n",
        "    elif skor >= 70:\n",
        "        return \"B\"\n",
        "    elif skor >= 60:\n",
        "        return \"C\"\n",
        "    elif skor >= 50:\n",
        "        return \"D\"\n",
        "    else:\n",
        "        return \"E\"\n",
        "\n",
        "print(f\"Skor 75 mendapat predikat: {tentukan_predikat(90)}\")\n",
        "print(f\"Skor 48 mendapat predikat: {tentukan_predikat(60)}\")\n",
        "\n",
        "def tentukan_predikat(skor):\n",
        "    \"\"\"Menentukan predikat (A, B, C, D, E) berdasarkan skor dengan validasi input.\"\"\"\n",
        "\n",
        "\n",
        "    if not isinstance(skor, (int, float)):\n",
        "        return \"Error: skor harus berupa angka (int/float)!\"\n",
        "\n",
        "    if skor >= 85:\n",
        "        return \"A\"\n",
        "    elif skor >= 70:\n",
        "        return \"B\"\n",
        "    elif skor >= 60:\n",
        "        return \"C\"\n",
        "    elif skor >= 50:\n",
        "        return \"D\"\n",
        "    else:\n",
        "        return \"E\"\n",
        "\n",
        "print(tentukan_predikat(90))\n",
        "print(tentukan_predikat(\"90\"))"
      ],
      "metadata": {
        "colab": {
          "base_uri": "https://localhost:8080/"
        },
        "id": "fUrSHxzJ0bB2",
        "outputId": "a060653c-e3bf-4739-b483-416c16bdfb8f"
      },
      "execution_count": 20,
      "outputs": [
        {
          "output_type": "stream",
          "name": "stdout",
          "text": [
            "Skor 75 mendapat predikat: A\n",
            "Skor 48 mendapat predikat: C\n",
            "A\n",
            "Error: skor harus berupa angka (int/float)!\n"
          ]
        }
      ]
    },
    {
      "cell_type": "code",
      "source": [
        "# SOAL 5: Menghitung Faktorial dengan Loop While\n",
        "def hitung_faktorial(n):\n",
        "    \"\"\"Menghitung faktorial dari bilangan positif n.\"\"\"\n",
        "\n",
        "\n",
        "    if n < 0:\n",
        "        return \"Error: Faktorial tidak terdefinisi untuk bilangan negatif.\"\n",
        "    elif n == 0:\n",
        "        return 1\n",
        "\n",
        "    hasil = 1\n",
        "\n",
        "    # kode berjalan selama n lebih besar dari 1\n",
        "    while n > 1:\n",
        "        hasil *= n\n",
        "        n -= 1  # Kurangi n\n",
        "\n",
        "    return hasil\n",
        "\n",
        "\n",
        "# Pemanggilan:\n",
        "bilangan_n = 12\n",
        "\n",
        "\n",
        "print(f\"Faktorial dari {bilangan_n} adalah: {hitung_faktorial(bilangan_n)}\")\n"
      ],
      "metadata": {
        "colab": {
          "base_uri": "https://localhost:8080/"
        },
        "id": "o5cL9EIs1H9y",
        "outputId": "16558b5c-d461-4680-9e28-86708084bf63"
      },
      "execution_count": 24,
      "outputs": [
        {
          "output_type": "stream",
          "name": "stdout",
          "text": [
            "Faktorial dari 12 adalah: 479001600\n"
          ]
        }
      ]
    },
    {
      "cell_type": "code",
      "source": [
        "# SOAL 6: Analisis Data Suhu Ekstrem (for dan if/elif)\n",
        "def analisis_suhu(data_suhu):\n",
        "    \"\"\"Menghitung jumlah hari Panas dan Dingin dari data_suhu.\"\"\"\n",
        "    panas_count = 0\n",
        "    dingin_count = 0\n",
        "\n",
        "    for suhu in data_suhu:\n",
        "        if suhu >= 35:\n",
        "            panas_count += 1\n",
        "        elif suhu <= 15:\n",
        "            dingin_count += 1\n",
        "\n",
        "    return panas_count, dingin_count\n",
        "\n",
        "# Pemanggilan:\n",
        "suhu_mingguan = [40, 15, 20, 25, 10, 19, 22,36,]\n",
        "jumlah_panas, jumlah_dingin = analisis_suhu(suhu_mingguan)\n",
        "print(f\"Jumlah hari Panas (>=35°C): {jumlah_panas}\")\n",
        "print(f\"Jumlah hari Dingin (<=15°C): {jumlah_dingin}\")\n"
      ],
      "metadata": {
        "colab": {
          "base_uri": "https://localhost:8080/"
        },
        "id": "0xld-N9m1WqZ",
        "outputId": "bee989f7-9a67-4802-bdd1-ee40f28677c5"
      },
      "execution_count": 25,
      "outputs": [
        {
          "output_type": "stream",
          "name": "stdout",
          "text": [
            "Jumlah hari Panas (>=35°C): 2\n",
            "Jumlah hari Dingin (<=15°C): 2\n"
          ]
        }
      ]
    }
  ]
}