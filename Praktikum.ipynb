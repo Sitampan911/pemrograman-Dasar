{
  "nbformat": 4,
  "nbformat_minor": 0,
  "metadata": {
    "colab": {
      "provenance": [],
      "authorship_tag": "ABX9TyMIxmvHNWG4kzcSmziFtzdm",
      "include_colab_link": true
    },
    "kernelspec": {
      "name": "python3",
      "display_name": "Python 3"
    },
    "language_info": {
      "name": "python"
    }
  },
  "cells": [
    {
      "cell_type": "markdown",
      "metadata": {
        "id": "view-in-github",
        "colab_type": "text"
      },
      "source": [
        "<a href=\"https://colab.research.google.com/github/Sitampan911/pemrograman-Dasar/blob/main/Praktikum.ipynb\" target=\"_parent\"><img src=\"https://colab.research.google.com/assets/colab-badge.svg\" alt=\"Open In Colab\"/></a>"
      ]
    },
    {
      "cell_type": "code",
      "execution_count": 1,
      "metadata": {
        "colab": {
          "base_uri": "https://localhost:8080/"
        },
        "id": "nfDMbr68UeHy",
        "outputId": "9c339c8b-faf9-40d0-8277-1e51812c959e"
      },
      "outputs": [
        {
          "output_type": "stream",
          "name": "stdout",
          "text": [
            "pengunjung adalah orang dewasa\n"
          ]
        }
      ],
      "source": [
        "# variabel untuk menyimpan umur pengunjung\n",
        "umur: int = 20\n",
        "\n",
        "# program hanya mencetak pesan jika umur di atas 17\n",
        "if umur > 17:\n",
        "  print(\"pengunjung adalah orang dewasa\")"
      ]
    },
    {
      "cell_type": "code",
      "source": [
        "username = input(\"masukan username: \")\n",
        "password = input(\"password: \")\n",
        "\n",
        "if username == \"karibo\" and password == \"kariboo12\":\n",
        "  print(\"selamat datang admin\")\n",
        "else:\n",
        "  print(\"username atau password salah\")"
      ],
      "metadata": {
        "colab": {
          "base_uri": "https://localhost:8080/"
        },
        "id": "TQq6INK8VtD6",
        "outputId": "7215c933-2f0a-4574-cfa4-e0376937dd81"
      },
      "execution_count": 8,
      "outputs": [
        {
          "output_type": "stream",
          "name": "stdout",
          "text": [
            "masukan username: karibo\n",
            "password: kariboo12\n",
            "selamat datang admin\n"
          ]
        }
      ]
    },
    {
      "cell_type": "code",
      "source": [
        "#program untuk mengecek bonus dan diskon\n",
        "total_belanja = input(\"total belanja: Rp \")\n",
        "# jumlah yang harus di bayar adalah berapa total belanjanya\n",
        "# tapi kalau dapat diskon akan berkurang\n",
        "bayar = int(total_belanja)\n",
        "# jika dia belanja di atas 100Rb maka beri bonus dan diskon\n",
        "if int(total_belanja) > 100000:\n",
        " print(\"selamat karena belanja > Rp. 100.000 anda mendapat vocer makan \")\n",
        " print(\"dan diskon 5%\")\n",
        " # hitung diskonnya\n",
        " diskon = int(total_belanja) * 5/100 #5%\n",
        " bayar = int(total_belanja) - diskon\n",
        " # cetak struk\n",
        " print(\"total yang harus di bayar: Rp %s\" % bayar)\n",
        " print(\"terimakasih telah belanja di toko kami\")\n",
        " print(\"kami tunggu kunjungan anda selanjutnya.\")\n"
      ],
      "metadata": {
        "colab": {
          "base_uri": "https://localhost:8080/"
        },
        "id": "AwYV3nuLXWha",
        "outputId": "eb7f4556-a017-4bdc-fc53-13e93cadad69"
      },
      "execution_count": 9,
      "outputs": [
        {
          "output_type": "stream",
          "name": "stdout",
          "text": [
            "total belanja: Rp 113000\n",
            "selamat karena belanja > Rp. 100.000 anda mendapat vocer makan \n",
            "dan diskon 5%\n",
            "total yang harus di bayar: Rp 107350.0\n",
            "terimakasih telah belanja di toko kami\n",
            "kami tunggu kunjungan anda selanjutnya.\n"
          ]
        }
      ]
    },
    {
      "cell_type": "code",
      "source": [
        "# variabel untuk memeriksa apakah ada notifikasi baru\n",
        "ada_notifikasi_baru: bool = True\n",
        "\n",
        "if ada_notifikasi_baru:\n",
        "  print(\"anda memiliki pesan baru!\")"
      ],
      "metadata": {
        "colab": {
          "base_uri": "https://localhost:8080/"
        },
        "id": "xpjIzeBraR58",
        "outputId": "ab3c6103-dc3a-4ef9-c2c2-01e24481d3b5"
      },
      "execution_count": 12,
      "outputs": [
        {
          "output_type": "stream",
          "name": "stdout",
          "text": [
            "anda memiliki pesan baru!\n"
          ]
        }
      ]
    },
    {
      "cell_type": "code",
      "source": [
        "umur = input(\"berapa umur kamu: \")\n",
        "if int(umur) >= 18:\n",
        "  print(\"anda boleh membuat SIM\")\n",
        "else:\n",
        "  print(\"anda belum boleh membuat SIM\")"
      ],
      "metadata": {
        "colab": {
          "base_uri": "https://localhost:8080/"
        },
        "id": "Z9jyIVkZbVJz",
        "outputId": "0f60606f-5f6d-4500-d1fd-556fbff9e9fe"
      },
      "execution_count": 13,
      "outputs": [
        {
          "output_type": "stream",
          "name": "stdout",
          "text": [
            "berapa umur kamu: 19\n",
            "anda boleh membuat SIM\n"
          ]
        }
      ]
    },
    {
      "cell_type": "code",
      "source": [
        "total_belanja = 250000 #asumsikan total belanja di atas 20rb\n",
        "\n",
        "if total_belanja > 200000:\n",
        "  diskon = total_belanja * 0.10\n",
        "  total_bayar = total_belanja - diskon\n",
        "  print(f\"anda mendapat diskon! total bayar: Rp {total_bayar}\")\n",
        "else:\n",
        "  print(f\"total bayar: Rp {total_belanja}\")"
      ],
      "metadata": {
        "colab": {
          "base_uri": "https://localhost:8080/"
        },
        "id": "YVpaM2jEb148",
        "outputId": "1817cfc8-e9df-43da-b0a3-117e0b711479"
      },
      "execution_count": 15,
      "outputs": [
        {
          "output_type": "stream",
          "name": "stdout",
          "text": [
            "anda mendapat diskon! total bayar: Rp 225000.0\n"
          ]
        }
      ]
    },
    {
      "cell_type": "code",
      "source": [
        "angka = int(input(\"masukan bilangan: \"))\n",
        "\n",
        "if angka % 2 == 0:\n",
        "  print(\"bilangan genap\")\n",
        "else:\n",
        "  print(\"bilangan ganjil\")"
      ],
      "metadata": {
        "colab": {
          "base_uri": "https://localhost:8080/"
        },
        "id": "8YOxx2-MdSgz",
        "outputId": "a6e05199-3a91-4518-88f0-2eccfd1664b6"
      },
      "execution_count": 17,
      "outputs": [
        {
          "output_type": "stream",
          "name": "stdout",
          "text": [
            "masukan bilangan: 911\n",
            "bilangan ganjil\n"
          ]
        }
      ]
    },
    {
      "cell_type": "code",
      "source": [
        "nilai = 85\n",
        "if nilai >= 85:\n",
        "  print(\"grade A\")\n",
        "elif nilai >= 70:\n",
        "  print(\"grade B\")\n",
        "elif nilai >= 60:\n",
        "  print(\"grade C\")\n",
        "else:\n",
        "  print(\"nilai kurang, perlu belajar lebih giat.\")"
      ],
      "metadata": {
        "colab": {
          "base_uri": "https://localhost:8080/"
        },
        "id": "zImdssuud3bD",
        "outputId": "956fb860-66c6-40bf-f3be-07eef465e0c7"
      },
      "execution_count": 19,
      "outputs": [
        {
          "output_type": "stream",
          "name": "stdout",
          "text": [
            "grade A\n"
          ]
        }
      ]
    },
    {
      "cell_type": "code",
      "source": [
        "# menetukan jenis diskon bedasarkan hari\n",
        "hari: str =\"sabtu\"\n",
        "\n",
        "if hari == \"sabtu\" or hari == \"minggu\":\n",
        "   diskon: float = 0.20 # dsikon 20%\n",
        "   print(f\"selamat! anda mendapat diskon akhir pekan sebesar {diskon*100}%.\")\n",
        "elif hari == \"jumat\":\n",
        "  diskon: float = 0.15 # doskom 15%\n",
        "  print(f\"diskon spesial jumat! anda mendapat potongan {diskon*100}%.\")\n",
        "else:\n",
        "  diskon: float = 0.05 # diskon 5%\n",
        "  print(f\"anda mendapat diskon hari biasa sebesar {diskon*100}%.\")"
      ],
      "metadata": {
        "colab": {
          "base_uri": "https://localhost:8080/"
        },
        "id": "01hb8EkFetLN",
        "outputId": "be1d3727-cbec-4916-ea02-962d9c4a15d0"
      },
      "execution_count": 21,
      "outputs": [
        {
          "output_type": "stream",
          "name": "stdout",
          "text": [
            "selamat! anda mendapat diskon akhir pekan sebesar 20.0%.\n"
          ]
        }
      ]
    },
    {
      "cell_type": "code",
      "source": [
        "rupiah = int(input(\"masukan jumlah uang (Rp): \"))\n",
        "print(\"1. dollar (usd)\")\n",
        "print(\"2. euro (eur)\")\n",
        "print(\"3. yen (jpy)\")\n",
        "pilih = int(input(\"pilih konversi (1/2/3): \"))\n",
        "\n",
        "if pilih == 1:\n",
        "  print (\"dalam dollar:\", rupiah / 16000)\n",
        "elif pilih == 2:\n",
        "  print (\"dalam euro:\", rupiah / 16000)\n",
        "elif pilih == 3:\n",
        "  print (\"dalam yen:\", rupiah / 120)\n",
        "else:\n",
        "  print(\"pilih tidak valid\")"
      ],
      "metadata": {
        "colab": {
          "base_uri": "https://localhost:8080/"
        },
        "id": "Va4VYxxRg9Hc",
        "outputId": "bafce703-f938-4b5d-921d-ff8386933dfd"
      },
      "execution_count": 25,
      "outputs": [
        {
          "output_type": "stream",
          "name": "stdout",
          "text": [
            "masukan jumlah uang (Rp): 271000000000000\n",
            "1. dollar (usd)\n",
            "2. euro (eur)\n",
            "3. yen (jpy)\n",
            "pilih konversi (1/2/3): 1\n",
            "dalam dollar: 16937500000.0\n"
          ]
        }
      ]
    }
  ]
}